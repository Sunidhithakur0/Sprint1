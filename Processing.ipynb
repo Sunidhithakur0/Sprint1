{
 "cells": [
  {
   "cell_type": "code",
   "execution_count": 4,
   "id": "845d47f9",
   "metadata": {},
   "outputs": [],
   "source": [
    "# Import Libraries\n",
    "import pandas as pd\n",
    "\n",
    "# Helper function to clean column names\n",
    "def clean_columns(df):\n",
    "    df.columns = df.columns.str.strip().str.lower().str.replace(\" \", \"_\")\n",
    "    return df\n"
   ]
  },
  {
   "cell_type": "code",
   "execution_count": 5,
   "id": "1f9a0af2",
   "metadata": {},
   "outputs": [],
   "source": [
    "# Load All CSV Files\n",
    "activitylogs = clean_columns(pd.read_csv('activitylogs.csv'))\n",
    "dietlogs = clean_columns(pd.read_csv('dietlogs.csv'))\n",
    "moodlogs = clean_columns(pd.read_csv('moodlogs_cleaned.csv'))\n",
    "regions = clean_columns(pd.read_csv('regions.csv'))\n",
    "users = clean_columns(pd.read_csv('users.csv'))\n",
    "wearable = clean_columns(pd.read_csv('wearabledata.csv'))\n"
   ]
  },
  {
   "cell_type": "code",
   "execution_count": 6,
   "id": "7f98c299",
   "metadata": {},
   "outputs": [
    {
     "data": {
      "application/vnd.microsoft.datawrangler.viewer.v0+json": {
       "columns": [
        {
         "name": "index",
         "rawType": "int64",
         "type": "integer"
        },
        {
         "name": "activity_id",
         "rawType": "int64",
         "type": "integer"
        },
        {
         "name": "user_id",
         "rawType": "int64",
         "type": "integer"
        },
        {
         "name": "activity_type",
         "rawType": "object",
         "type": "string"
        },
        {
         "name": "duration_mins",
         "rawType": "int64",
         "type": "integer"
        },
        {
         "name": "calories_burned",
         "rawType": "int64",
         "type": "integer"
        },
        {
         "name": "activity_date",
         "rawType": "object",
         "type": "string"
        }
       ],
       "ref": "604bf7da-88c0-42c3-9d2c-20dbea0ab3ef",
       "rows": [
        [
         "0",
         "1",
         "1",
         "Lunges",
         "10",
         "119",
         "18-05-2025"
        ],
        [
         "1",
         "2",
         "2",
         "Boxing",
         "76",
         "828",
         "19-05-2025"
        ],
        [
         "2",
         "3",
         "3",
         "Boxing",
         "104",
         "808",
         "29-05-2025"
        ],
        [
         "3",
         "4",
         "4",
         "Weight Lifting",
         "36",
         "204",
         "20-05-2025"
        ],
        [
         "4",
         "5",
         "5",
         "Martial Arts",
         "98",
         "285",
         "13-06-2025"
        ]
       ],
       "shape": {
        "columns": 6,
        "rows": 5
       }
      },
      "text/html": [
       "<div>\n",
       "<style scoped>\n",
       "    .dataframe tbody tr th:only-of-type {\n",
       "        vertical-align: middle;\n",
       "    }\n",
       "\n",
       "    .dataframe tbody tr th {\n",
       "        vertical-align: top;\n",
       "    }\n",
       "\n",
       "    .dataframe thead th {\n",
       "        text-align: right;\n",
       "    }\n",
       "</style>\n",
       "<table border=\"1\" class=\"dataframe\">\n",
       "  <thead>\n",
       "    <tr style=\"text-align: right;\">\n",
       "      <th></th>\n",
       "      <th>activity_id</th>\n",
       "      <th>user_id</th>\n",
       "      <th>activity_type</th>\n",
       "      <th>duration_mins</th>\n",
       "      <th>calories_burned</th>\n",
       "      <th>activity_date</th>\n",
       "    </tr>\n",
       "  </thead>\n",
       "  <tbody>\n",
       "    <tr>\n",
       "      <th>0</th>\n",
       "      <td>1</td>\n",
       "      <td>1</td>\n",
       "      <td>Lunges</td>\n",
       "      <td>10</td>\n",
       "      <td>119</td>\n",
       "      <td>18-05-2025</td>\n",
       "    </tr>\n",
       "    <tr>\n",
       "      <th>1</th>\n",
       "      <td>2</td>\n",
       "      <td>2</td>\n",
       "      <td>Boxing</td>\n",
       "      <td>76</td>\n",
       "      <td>828</td>\n",
       "      <td>19-05-2025</td>\n",
       "    </tr>\n",
       "    <tr>\n",
       "      <th>2</th>\n",
       "      <td>3</td>\n",
       "      <td>3</td>\n",
       "      <td>Boxing</td>\n",
       "      <td>104</td>\n",
       "      <td>808</td>\n",
       "      <td>29-05-2025</td>\n",
       "    </tr>\n",
       "    <tr>\n",
       "      <th>3</th>\n",
       "      <td>4</td>\n",
       "      <td>4</td>\n",
       "      <td>Weight Lifting</td>\n",
       "      <td>36</td>\n",
       "      <td>204</td>\n",
       "      <td>20-05-2025</td>\n",
       "    </tr>\n",
       "    <tr>\n",
       "      <th>4</th>\n",
       "      <td>5</td>\n",
       "      <td>5</td>\n",
       "      <td>Martial Arts</td>\n",
       "      <td>98</td>\n",
       "      <td>285</td>\n",
       "      <td>13-06-2025</td>\n",
       "    </tr>\n",
       "  </tbody>\n",
       "</table>\n",
       "</div>"
      ],
      "text/plain": [
       "   activity_id  user_id   activity_type  duration_mins  calories_burned  \\\n",
       "0            1        1          Lunges             10              119   \n",
       "1            2        2          Boxing             76              828   \n",
       "2            3        3          Boxing            104              808   \n",
       "3            4        4  Weight Lifting             36              204   \n",
       "4            5        5    Martial Arts             98              285   \n",
       "\n",
       "  activity_date  \n",
       "0    18-05-2025  \n",
       "1    19-05-2025  \n",
       "2    29-05-2025  \n",
       "3    20-05-2025  \n",
       "4    13-06-2025  "
      ]
     },
     "execution_count": 6,
     "metadata": {},
     "output_type": "execute_result"
    }
   ],
   "source": [
    "activitylogs.head() "
   ]
  },
  {
   "cell_type": "code",
   "execution_count": 7,
   "id": "3e121db6",
   "metadata": {},
   "outputs": [
    {
     "data": {
      "application/vnd.microsoft.datawrangler.viewer.v0+json": {
       "columns": [
        {
         "name": "index",
         "rawType": "int64",
         "type": "integer"
        },
        {
         "name": "diet_id",
         "rawType": "int64",
         "type": "integer"
        },
        {
         "name": "user_id",
         "rawType": "int64",
         "type": "integer"
        },
        {
         "name": "meal_type",
         "rawType": "object",
         "type": "string"
        },
        {
         "name": "food_items",
         "rawType": "object",
         "type": "string"
        },
        {
         "name": "calories_intake",
         "rawType": "int64",
         "type": "integer"
        },
        {
         "name": "meal_date",
         "rawType": "object",
         "type": "string"
        }
       ],
       "ref": "c2aadb0d-6dc2-4b99-97b0-38ecf03e46ef",
       "rows": [
        [
         "0",
         "1",
         "1",
         "Snack",
         "Mutton Rogan Josh, Cereal",
         "930",
         "29-05-2025"
        ],
        [
         "1",
         "2",
         "2",
         "Snack",
         "Coffee, Spaghetti Bolognese",
         "1111",
         "23-05-2025"
        ],
        [
         "2",
         "3",
         "3",
         "Breakfast",
         "Porridge, Fried Rice, Pad Thai, Green Tea",
         "1183",
         "22-05-2025"
        ],
        [
         "3",
         "4",
         "4",
         "Dinner",
         "Idli, Fried Rice, Spring Rolls, Upma, Muesli",
         "427",
         "24-05-2025"
        ],
        [
         "4",
         "5",
         "5",
         "Breakfast",
         "Pho, Burrito, Pad Thai",
         "866",
         "08-06-2025"
        ]
       ],
       "shape": {
        "columns": 6,
        "rows": 5
       }
      },
      "text/html": [
       "<div>\n",
       "<style scoped>\n",
       "    .dataframe tbody tr th:only-of-type {\n",
       "        vertical-align: middle;\n",
       "    }\n",
       "\n",
       "    .dataframe tbody tr th {\n",
       "        vertical-align: top;\n",
       "    }\n",
       "\n",
       "    .dataframe thead th {\n",
       "        text-align: right;\n",
       "    }\n",
       "</style>\n",
       "<table border=\"1\" class=\"dataframe\">\n",
       "  <thead>\n",
       "    <tr style=\"text-align: right;\">\n",
       "      <th></th>\n",
       "      <th>diet_id</th>\n",
       "      <th>user_id</th>\n",
       "      <th>meal_type</th>\n",
       "      <th>food_items</th>\n",
       "      <th>calories_intake</th>\n",
       "      <th>meal_date</th>\n",
       "    </tr>\n",
       "  </thead>\n",
       "  <tbody>\n",
       "    <tr>\n",
       "      <th>0</th>\n",
       "      <td>1</td>\n",
       "      <td>1</td>\n",
       "      <td>Snack</td>\n",
       "      <td>Mutton Rogan Josh, Cereal</td>\n",
       "      <td>930</td>\n",
       "      <td>29-05-2025</td>\n",
       "    </tr>\n",
       "    <tr>\n",
       "      <th>1</th>\n",
       "      <td>2</td>\n",
       "      <td>2</td>\n",
       "      <td>Snack</td>\n",
       "      <td>Coffee, Spaghetti Bolognese</td>\n",
       "      <td>1111</td>\n",
       "      <td>23-05-2025</td>\n",
       "    </tr>\n",
       "    <tr>\n",
       "      <th>2</th>\n",
       "      <td>3</td>\n",
       "      <td>3</td>\n",
       "      <td>Breakfast</td>\n",
       "      <td>Porridge, Fried Rice, Pad Thai, Green Tea</td>\n",
       "      <td>1183</td>\n",
       "      <td>22-05-2025</td>\n",
       "    </tr>\n",
       "    <tr>\n",
       "      <th>3</th>\n",
       "      <td>4</td>\n",
       "      <td>4</td>\n",
       "      <td>Dinner</td>\n",
       "      <td>Idli, Fried Rice, Spring Rolls, Upma, Muesli</td>\n",
       "      <td>427</td>\n",
       "      <td>24-05-2025</td>\n",
       "    </tr>\n",
       "    <tr>\n",
       "      <th>4</th>\n",
       "      <td>5</td>\n",
       "      <td>5</td>\n",
       "      <td>Breakfast</td>\n",
       "      <td>Pho, Burrito, Pad Thai</td>\n",
       "      <td>866</td>\n",
       "      <td>08-06-2025</td>\n",
       "    </tr>\n",
       "  </tbody>\n",
       "</table>\n",
       "</div>"
      ],
      "text/plain": [
       "   diet_id  user_id  meal_type                                    food_items  \\\n",
       "0        1        1      Snack                     Mutton Rogan Josh, Cereal   \n",
       "1        2        2      Snack                   Coffee, Spaghetti Bolognese   \n",
       "2        3        3  Breakfast     Porridge, Fried Rice, Pad Thai, Green Tea   \n",
       "3        4        4     Dinner  Idli, Fried Rice, Spring Rolls, Upma, Muesli   \n",
       "4        5        5  Breakfast                        Pho, Burrito, Pad Thai   \n",
       "\n",
       "   calories_intake   meal_date  \n",
       "0              930  29-05-2025  \n",
       "1             1111  23-05-2025  \n",
       "2             1183  22-05-2025  \n",
       "3              427  24-05-2025  \n",
       "4              866  08-06-2025  "
      ]
     },
     "execution_count": 7,
     "metadata": {},
     "output_type": "execute_result"
    }
   ],
   "source": [
    "dietlogs.head()"
   ]
  },
  {
   "cell_type": "code",
   "execution_count": 8,
   "id": "bf3acbb6",
   "metadata": {},
   "outputs": [
    {
     "data": {
      "application/vnd.microsoft.datawrangler.viewer.v0+json": {
       "columns": [
        {
         "name": "index",
         "rawType": "int64",
         "type": "integer"
        },
        {
         "name": "mood_id",
         "rawType": "int64",
         "type": "integer"
        },
        {
         "name": "user_id",
         "rawType": "int64",
         "type": "integer"
        },
        {
         "name": "mood_rating",
         "rawType": "int64",
         "type": "integer"
        },
        {
         "name": "mood_notes",
         "rawType": "object",
         "type": "string"
        },
        {
         "name": "mood_date",
         "rawType": "object",
         "type": "string"
        }
       ],
       "ref": "d6b73a51-f76b-4094-855a-33971656d087",
       "rows": [
        [
         "0",
         "1",
         "1",
         "2",
         "Deep in thought.",
         "2025-06-06"
        ],
        [
         "1",
         "2",
         "2",
         "7",
         "Hurt by someone’s words.",
         "2025-06-06"
        ],
        [
         "2",
         "3",
         "3",
         "2",
         "Laughing helped reduce stress.",
         "2025-06-10"
        ],
        [
         "3",
         "4",
         "4",
         "8",
         "Messed up something and feeling guilty.",
         "2025-06-07"
        ],
        [
         "4",
         "5",
         "5",
         "2",
         "Sick and a bit cranky.",
         "2025-06-15"
        ]
       ],
       "shape": {
        "columns": 5,
        "rows": 5
       }
      },
      "text/html": [
       "<div>\n",
       "<style scoped>\n",
       "    .dataframe tbody tr th:only-of-type {\n",
       "        vertical-align: middle;\n",
       "    }\n",
       "\n",
       "    .dataframe tbody tr th {\n",
       "        vertical-align: top;\n",
       "    }\n",
       "\n",
       "    .dataframe thead th {\n",
       "        text-align: right;\n",
       "    }\n",
       "</style>\n",
       "<table border=\"1\" class=\"dataframe\">\n",
       "  <thead>\n",
       "    <tr style=\"text-align: right;\">\n",
       "      <th></th>\n",
       "      <th>mood_id</th>\n",
       "      <th>user_id</th>\n",
       "      <th>mood_rating</th>\n",
       "      <th>mood_notes</th>\n",
       "      <th>mood_date</th>\n",
       "    </tr>\n",
       "  </thead>\n",
       "  <tbody>\n",
       "    <tr>\n",
       "      <th>0</th>\n",
       "      <td>1</td>\n",
       "      <td>1</td>\n",
       "      <td>2</td>\n",
       "      <td>Deep in thought.</td>\n",
       "      <td>2025-06-06</td>\n",
       "    </tr>\n",
       "    <tr>\n",
       "      <th>1</th>\n",
       "      <td>2</td>\n",
       "      <td>2</td>\n",
       "      <td>7</td>\n",
       "      <td>Hurt by someone’s words.</td>\n",
       "      <td>2025-06-06</td>\n",
       "    </tr>\n",
       "    <tr>\n",
       "      <th>2</th>\n",
       "      <td>3</td>\n",
       "      <td>3</td>\n",
       "      <td>2</td>\n",
       "      <td>Laughing helped reduce stress.</td>\n",
       "      <td>2025-06-10</td>\n",
       "    </tr>\n",
       "    <tr>\n",
       "      <th>3</th>\n",
       "      <td>4</td>\n",
       "      <td>4</td>\n",
       "      <td>8</td>\n",
       "      <td>Messed up something and feeling guilty.</td>\n",
       "      <td>2025-06-07</td>\n",
       "    </tr>\n",
       "    <tr>\n",
       "      <th>4</th>\n",
       "      <td>5</td>\n",
       "      <td>5</td>\n",
       "      <td>2</td>\n",
       "      <td>Sick and a bit cranky.</td>\n",
       "      <td>2025-06-15</td>\n",
       "    </tr>\n",
       "  </tbody>\n",
       "</table>\n",
       "</div>"
      ],
      "text/plain": [
       "   mood_id  user_id  mood_rating                               mood_notes  \\\n",
       "0        1        1            2                         Deep in thought.   \n",
       "1        2        2            7                 Hurt by someone’s words.   \n",
       "2        3        3            2           Laughing helped reduce stress.   \n",
       "3        4        4            8  Messed up something and feeling guilty.   \n",
       "4        5        5            2                   Sick and a bit cranky.   \n",
       "\n",
       "    mood_date  \n",
       "0  2025-06-06  \n",
       "1  2025-06-06  \n",
       "2  2025-06-10  \n",
       "3  2025-06-07  \n",
       "4  2025-06-15  "
      ]
     },
     "execution_count": 8,
     "metadata": {},
     "output_type": "execute_result"
    }
   ],
   "source": [
    "moodlogs.head()\n"
   ]
  },
  {
   "cell_type": "code",
   "execution_count": 9,
   "id": "4e08ef48",
   "metadata": {},
   "outputs": [
    {
     "data": {
      "application/vnd.microsoft.datawrangler.viewer.v0+json": {
       "columns": [
        {
         "name": "index",
         "rawType": "int64",
         "type": "integer"
        },
        {
         "name": "region_id",
         "rawType": "int64",
         "type": "integer"
        },
        {
         "name": "region_name",
         "rawType": "object",
         "type": "string"
        }
       ],
       "ref": "9d916a27-737f-427c-baaf-c32769006fa1",
       "rows": [
        [
         "0",
         "1",
         "North Judithbury, Northern Mariana Islands"
        ],
        [
         "1",
         "2",
         "Lake Curtis, Czech Republic"
        ],
        [
         "2",
         "3",
         "New Roberttown, Saint Vincent and the Grenadines"
        ],
        [
         "3",
         "4",
         "East William, Bermuda"
        ],
        [
         "4",
         "5",
         "Lake Debra, Anguilla"
        ]
       ],
       "shape": {
        "columns": 2,
        "rows": 5
       }
      },
      "text/html": [
       "<div>\n",
       "<style scoped>\n",
       "    .dataframe tbody tr th:only-of-type {\n",
       "        vertical-align: middle;\n",
       "    }\n",
       "\n",
       "    .dataframe tbody tr th {\n",
       "        vertical-align: top;\n",
       "    }\n",
       "\n",
       "    .dataframe thead th {\n",
       "        text-align: right;\n",
       "    }\n",
       "</style>\n",
       "<table border=\"1\" class=\"dataframe\">\n",
       "  <thead>\n",
       "    <tr style=\"text-align: right;\">\n",
       "      <th></th>\n",
       "      <th>region_id</th>\n",
       "      <th>region_name</th>\n",
       "    </tr>\n",
       "  </thead>\n",
       "  <tbody>\n",
       "    <tr>\n",
       "      <th>0</th>\n",
       "      <td>1</td>\n",
       "      <td>North Judithbury, Northern Mariana Islands</td>\n",
       "    </tr>\n",
       "    <tr>\n",
       "      <th>1</th>\n",
       "      <td>2</td>\n",
       "      <td>Lake Curtis, Czech Republic</td>\n",
       "    </tr>\n",
       "    <tr>\n",
       "      <th>2</th>\n",
       "      <td>3</td>\n",
       "      <td>New Roberttown, Saint Vincent and the Grenadines</td>\n",
       "    </tr>\n",
       "    <tr>\n",
       "      <th>3</th>\n",
       "      <td>4</td>\n",
       "      <td>East William, Bermuda</td>\n",
       "    </tr>\n",
       "    <tr>\n",
       "      <th>4</th>\n",
       "      <td>5</td>\n",
       "      <td>Lake Debra, Anguilla</td>\n",
       "    </tr>\n",
       "  </tbody>\n",
       "</table>\n",
       "</div>"
      ],
      "text/plain": [
       "   region_id                                       region_name\n",
       "0          1        North Judithbury, Northern Mariana Islands\n",
       "1          2                       Lake Curtis, Czech Republic\n",
       "2          3  New Roberttown, Saint Vincent and the Grenadines\n",
       "3          4                             East William, Bermuda\n",
       "4          5                              Lake Debra, Anguilla"
      ]
     },
     "execution_count": 9,
     "metadata": {},
     "output_type": "execute_result"
    }
   ],
   "source": [
    "regions.head()"
   ]
  },
  {
   "cell_type": "code",
   "execution_count": 10,
   "id": "7c30baef",
   "metadata": {},
   "outputs": [
    {
     "data": {
      "application/vnd.microsoft.datawrangler.viewer.v0+json": {
       "columns": [
        {
         "name": "index",
         "rawType": "int64",
         "type": "integer"
        },
        {
         "name": "user_id",
         "rawType": "int64",
         "type": "integer"
        },
        {
         "name": "name",
         "rawType": "object",
         "type": "string"
        },
        {
         "name": "age",
         "rawType": "int64",
         "type": "integer"
        },
        {
         "name": "gender",
         "rawType": "object",
         "type": "string"
        },
        {
         "name": "email",
         "rawType": "object",
         "type": "string"
        },
        {
         "name": "region_id",
         "rawType": "int64",
         "type": "integer"
        }
       ],
       "ref": "13ac3ddb-c093-44b8-8528-25e6eaaca197",
       "rows": [
        [
         "0",
         "1",
         "Brandon Russell",
         "66",
         "F",
         "robersonnancy@example.com",
         "202"
        ],
        [
         "1",
         "2",
         "Evelyn Christian",
         "52",
         "M",
         "derekhoffman@example.net",
         "705"
        ],
        [
         "2",
         "3",
         "Aaron Graham",
         "18",
         "M",
         "johnsnicholas@example.org",
         "261"
        ],
        [
         "3",
         "4",
         "Jerome Whitehead",
         "39",
         "Other",
         "estradadavid@example.org",
         "516"
        ],
        [
         "4",
         "5",
         "Jeffrey Woods",
         "70",
         "Other",
         "xmonroe@example.com",
         "361"
        ]
       ],
       "shape": {
        "columns": 6,
        "rows": 5
       }
      },
      "text/html": [
       "<div>\n",
       "<style scoped>\n",
       "    .dataframe tbody tr th:only-of-type {\n",
       "        vertical-align: middle;\n",
       "    }\n",
       "\n",
       "    .dataframe tbody tr th {\n",
       "        vertical-align: top;\n",
       "    }\n",
       "\n",
       "    .dataframe thead th {\n",
       "        text-align: right;\n",
       "    }\n",
       "</style>\n",
       "<table border=\"1\" class=\"dataframe\">\n",
       "  <thead>\n",
       "    <tr style=\"text-align: right;\">\n",
       "      <th></th>\n",
       "      <th>user_id</th>\n",
       "      <th>name</th>\n",
       "      <th>age</th>\n",
       "      <th>gender</th>\n",
       "      <th>email</th>\n",
       "      <th>region_id</th>\n",
       "    </tr>\n",
       "  </thead>\n",
       "  <tbody>\n",
       "    <tr>\n",
       "      <th>0</th>\n",
       "      <td>1</td>\n",
       "      <td>Brandon Russell</td>\n",
       "      <td>66</td>\n",
       "      <td>F</td>\n",
       "      <td>robersonnancy@example.com</td>\n",
       "      <td>202</td>\n",
       "    </tr>\n",
       "    <tr>\n",
       "      <th>1</th>\n",
       "      <td>2</td>\n",
       "      <td>Evelyn Christian</td>\n",
       "      <td>52</td>\n",
       "      <td>M</td>\n",
       "      <td>derekhoffman@example.net</td>\n",
       "      <td>705</td>\n",
       "    </tr>\n",
       "    <tr>\n",
       "      <th>2</th>\n",
       "      <td>3</td>\n",
       "      <td>Aaron Graham</td>\n",
       "      <td>18</td>\n",
       "      <td>M</td>\n",
       "      <td>johnsnicholas@example.org</td>\n",
       "      <td>261</td>\n",
       "    </tr>\n",
       "    <tr>\n",
       "      <th>3</th>\n",
       "      <td>4</td>\n",
       "      <td>Jerome Whitehead</td>\n",
       "      <td>39</td>\n",
       "      <td>Other</td>\n",
       "      <td>estradadavid@example.org</td>\n",
       "      <td>516</td>\n",
       "    </tr>\n",
       "    <tr>\n",
       "      <th>4</th>\n",
       "      <td>5</td>\n",
       "      <td>Jeffrey Woods</td>\n",
       "      <td>70</td>\n",
       "      <td>Other</td>\n",
       "      <td>xmonroe@example.com</td>\n",
       "      <td>361</td>\n",
       "    </tr>\n",
       "  </tbody>\n",
       "</table>\n",
       "</div>"
      ],
      "text/plain": [
       "   user_id              name  age gender                      email  region_id\n",
       "0        1   Brandon Russell   66      F  robersonnancy@example.com        202\n",
       "1        2  Evelyn Christian   52      M   derekhoffman@example.net        705\n",
       "2        3      Aaron Graham   18      M  johnsnicholas@example.org        261\n",
       "3        4  Jerome Whitehead   39  Other   estradadavid@example.org        516\n",
       "4        5     Jeffrey Woods   70  Other        xmonroe@example.com        361"
      ]
     },
     "execution_count": 10,
     "metadata": {},
     "output_type": "execute_result"
    }
   ],
   "source": [
    "users.head()"
   ]
  },
  {
   "cell_type": "code",
   "execution_count": 11,
   "id": "10be2ae7",
   "metadata": {},
   "outputs": [
    {
     "data": {
      "application/vnd.microsoft.datawrangler.viewer.v0+json": {
       "columns": [
        {
         "name": "index",
         "rawType": "int64",
         "type": "integer"
        },
        {
         "name": "wearable_id",
         "rawType": "int64",
         "type": "integer"
        },
        {
         "name": "user_id",
         "rawType": "int64",
         "type": "integer"
        },
        {
         "name": "timestamp",
         "rawType": "object",
         "type": "string"
        },
        {
         "name": "heart_rate",
         "rawType": "int64",
         "type": "integer"
        },
        {
         "name": "steps_count",
         "rawType": "int64",
         "type": "integer"
        },
        {
         "name": "sleep_hours",
         "rawType": "float64",
         "type": "float"
        },
        {
         "name": "device_name",
         "rawType": "object",
         "type": "string"
        }
       ],
       "ref": "dc7c5356-a9c1-43ef-9622-1d1ffab367bd",
       "rows": [
        [
         "0",
         "1",
         "1",
         "09-06-2025 19:19",
         "71",
         "3494",
         "4.9",
         "Apple Watch SE"
        ],
        [
         "1",
         "2",
         "2",
         "10-06-2025 01:10",
         "113",
         "14849",
         "4.7",
         "Realme Watch 3 Pro"
        ],
        [
         "2",
         "3",
         "3",
         "12-06-2025 06:56",
         "87",
         "16361",
         "5.5",
         "Withings ScanWatch"
        ],
        [
         "3",
         "4",
         "4",
         "10-06-2025 04:37",
         "114",
         "17509",
         "7.0",
         "Apple Watch Series 9"
        ],
        [
         "4",
         "5",
         "5",
         "15-06-2025 17:55",
         "83",
         "2935",
         "4.6",
         "Titan Smart 2"
        ]
       ],
       "shape": {
        "columns": 7,
        "rows": 5
       }
      },
      "text/html": [
       "<div>\n",
       "<style scoped>\n",
       "    .dataframe tbody tr th:only-of-type {\n",
       "        vertical-align: middle;\n",
       "    }\n",
       "\n",
       "    .dataframe tbody tr th {\n",
       "        vertical-align: top;\n",
       "    }\n",
       "\n",
       "    .dataframe thead th {\n",
       "        text-align: right;\n",
       "    }\n",
       "</style>\n",
       "<table border=\"1\" class=\"dataframe\">\n",
       "  <thead>\n",
       "    <tr style=\"text-align: right;\">\n",
       "      <th></th>\n",
       "      <th>wearable_id</th>\n",
       "      <th>user_id</th>\n",
       "      <th>timestamp</th>\n",
       "      <th>heart_rate</th>\n",
       "      <th>steps_count</th>\n",
       "      <th>sleep_hours</th>\n",
       "      <th>device_name</th>\n",
       "    </tr>\n",
       "  </thead>\n",
       "  <tbody>\n",
       "    <tr>\n",
       "      <th>0</th>\n",
       "      <td>1</td>\n",
       "      <td>1</td>\n",
       "      <td>09-06-2025 19:19</td>\n",
       "      <td>71</td>\n",
       "      <td>3494</td>\n",
       "      <td>4.9</td>\n",
       "      <td>Apple Watch SE</td>\n",
       "    </tr>\n",
       "    <tr>\n",
       "      <th>1</th>\n",
       "      <td>2</td>\n",
       "      <td>2</td>\n",
       "      <td>10-06-2025 01:10</td>\n",
       "      <td>113</td>\n",
       "      <td>14849</td>\n",
       "      <td>4.7</td>\n",
       "      <td>Realme Watch 3 Pro</td>\n",
       "    </tr>\n",
       "    <tr>\n",
       "      <th>2</th>\n",
       "      <td>3</td>\n",
       "      <td>3</td>\n",
       "      <td>12-06-2025 06:56</td>\n",
       "      <td>87</td>\n",
       "      <td>16361</td>\n",
       "      <td>5.5</td>\n",
       "      <td>Withings ScanWatch</td>\n",
       "    </tr>\n",
       "    <tr>\n",
       "      <th>3</th>\n",
       "      <td>4</td>\n",
       "      <td>4</td>\n",
       "      <td>10-06-2025 04:37</td>\n",
       "      <td>114</td>\n",
       "      <td>17509</td>\n",
       "      <td>7.0</td>\n",
       "      <td>Apple Watch Series 9</td>\n",
       "    </tr>\n",
       "    <tr>\n",
       "      <th>4</th>\n",
       "      <td>5</td>\n",
       "      <td>5</td>\n",
       "      <td>15-06-2025 17:55</td>\n",
       "      <td>83</td>\n",
       "      <td>2935</td>\n",
       "      <td>4.6</td>\n",
       "      <td>Titan Smart 2</td>\n",
       "    </tr>\n",
       "  </tbody>\n",
       "</table>\n",
       "</div>"
      ],
      "text/plain": [
       "   wearable_id  user_id         timestamp  heart_rate  steps_count  \\\n",
       "0            1        1  09-06-2025 19:19          71         3494   \n",
       "1            2        2  10-06-2025 01:10         113        14849   \n",
       "2            3        3  12-06-2025 06:56          87        16361   \n",
       "3            4        4  10-06-2025 04:37         114        17509   \n",
       "4            5        5  15-06-2025 17:55          83         2935   \n",
       "\n",
       "   sleep_hours           device_name  \n",
       "0          4.9        Apple Watch SE  \n",
       "1          4.7    Realme Watch 3 Pro  \n",
       "2          5.5    Withings ScanWatch  \n",
       "3          7.0  Apple Watch Series 9  \n",
       "4          4.6         Titan Smart 2  "
      ]
     },
     "execution_count": 11,
     "metadata": {},
     "output_type": "execute_result"
    }
   ],
   "source": [
    "wearable.head()"
   ]
  },
  {
   "cell_type": "code",
   "execution_count": 12,
   "id": "874a92cb",
   "metadata": {},
   "outputs": [
    {
     "name": "stdout",
     "output_type": "stream",
     "text": [
      "Duplicate rows in activitylogs: 0\n",
      "Duplicate rows in dietlogs: 0\n",
      "Duplicate rows in moodlogs: 0\n",
      "Duplicate rows in regions: 0\n",
      "Duplicate rows in users: 0\n",
      "Duplicate rows in wearable: 0\n"
     ]
    }
   ],
   "source": [
    "# Count duplicates in each DataFrame\n",
    "print(\"Duplicate rows in activitylogs:\", activitylogs.duplicated().sum())\n",
    "print(\"Duplicate rows in dietlogs:\", dietlogs.duplicated().sum())\n",
    "print(\"Duplicate rows in moodlogs:\", moodlogs.duplicated().sum())\n",
    "print(\"Duplicate rows in regions:\", regions.duplicated().sum())\n",
    "print(\"Duplicate rows in users:\", users.duplicated().sum())\n",
    "print(\"Duplicate rows in wearable:\", wearable.duplicated().sum())"
   ]
  },
  {
   "cell_type": "code",
   "execution_count": 13,
   "id": "7bd427b3",
   "metadata": {},
   "outputs": [],
   "source": [
    "# Clean and Transform Wearable Data\n",
    "wearable['timestamp'] = pd.to_datetime(wearable['timestamp'], format=\"%d-%m-%Y %H:%M\", errors='coerce')\n",
    "wearable['sleep_hours'] = wearable['sleep_hours'].fillna(wearable['sleep_hours'].median())\n",
    "\n",
    "def classify_activity_level(steps):\n",
    "    if steps >= 15000:\n",
    "        return 'Very Active'\n",
    "    elif steps >= 10000:\n",
    "        return 'Active'\n",
    "    elif steps >= 5000:\n",
    "        return 'Moderate'\n",
    "    else:\n",
    "        return 'Low'\n",
    "\n",
    "wearable['activity_level'] = wearable['steps_count'].apply(classify_activity_level)\n",
    "wearable = wearable.merge(users, on='user_id', how='left').merge(regions, on='region_id', how='left')\n"
   ]
  },
  {
   "cell_type": "code",
   "execution_count": 14,
   "id": "b99bcebe",
   "metadata": {},
   "outputs": [],
   "source": [
    "# Clean and Transform Activity Logs\n",
    "\n",
    "activitylogs['activity_date'] = pd.to_datetime(activitylogs['activity_date'], format=\"%d-%m-%Y\", errors='coerce')\n",
    "\n",
    "activitylogs['duration_mins'] = activitylogs['duration_mins'].fillna(0)\n",
    "\n",
    "activitylogs = activitylogs.merge(users, on='user_id', how='left').merge(regions, on='region_id', how='left')\n"
   ]
  },
  {
   "cell_type": "code",
   "execution_count": 15,
   "id": "5f25dc05",
   "metadata": {},
   "outputs": [
    {
     "name": "stderr",
     "output_type": "stream",
     "text": [
      "C:\\Users\\LENOVO\\AppData\\Local\\Temp\\ipykernel_18036\\3702493237.py:4: UserWarning: Parsing dates in %d-%m-%Y format when dayfirst=False (the default) was specified. Pass `dayfirst=True` or specify a format to silence this warning.\n",
      "  dietlogs['meal_date'] = pd.to_datetime(dietlogs['meal_date'], errors='coerce')\n"
     ]
    },
    {
     "data": {
      "application/vnd.microsoft.datawrangler.viewer.v0+json": {
       "columns": [
        {
         "name": "index",
         "rawType": "int64",
         "type": "integer"
        },
        {
         "name": "diet_id",
         "rawType": "int64",
         "type": "integer"
        },
        {
         "name": "user_id",
         "rawType": "int64",
         "type": "integer"
        },
        {
         "name": "meal_type",
         "rawType": "object",
         "type": "string"
        },
        {
         "name": "food_items",
         "rawType": "object",
         "type": "string"
        },
        {
         "name": "calories_intake",
         "rawType": "int64",
         "type": "integer"
        },
        {
         "name": "meal_date",
         "rawType": "datetime64[ns]",
         "type": "datetime"
        },
        {
         "name": "name",
         "rawType": "object",
         "type": "string"
        },
        {
         "name": "age",
         "rawType": "int64",
         "type": "integer"
        },
        {
         "name": "gender",
         "rawType": "object",
         "type": "string"
        },
        {
         "name": "email",
         "rawType": "object",
         "type": "string"
        },
        {
         "name": "region_id",
         "rawType": "int64",
         "type": "integer"
        },
        {
         "name": "region_name",
         "rawType": "object",
         "type": "string"
        }
       ],
       "ref": "60de4035-21d2-43cb-a42d-543765f2945a",
       "rows": [
        [
         "0",
         "1",
         "1",
         "Snack",
         "Mutton Rogan Josh, Cereal",
         "930",
         "2025-05-29 00:00:00",
         "Brandon Russell",
         "66",
         "F",
         "robersonnancy@example.com",
         "202",
         "South Danny, Niue"
        ],
        [
         "1",
         "2",
         "2",
         "Snack",
         "Coffee, Spaghetti Bolognese",
         "1111",
         "2025-05-23 00:00:00",
         "Evelyn Christian",
         "52",
         "M",
         "derekhoffman@example.net",
         "705",
         "Jeffreyport, Antigua and Barbuda"
        ],
        [
         "2",
         "3",
         "3",
         "Breakfast",
         "Porridge, Fried Rice, Pad Thai, Green Tea",
         "1183",
         "2025-05-22 00:00:00",
         "Aaron Graham",
         "18",
         "M",
         "johnsnicholas@example.org",
         "261",
         "Baileyport, Montserrat"
        ],
        [
         "3",
         "4",
         "4",
         "Dinner",
         "Idli, Fried Rice, Spring Rolls, Upma, Muesli",
         "427",
         "2025-05-24 00:00:00",
         "Jerome Whitehead",
         "39",
         "Other",
         "estradadavid@example.org",
         "516",
         "Cardenasberg, Ukraine"
        ],
        [
         "4",
         "5",
         "5",
         "Breakfast",
         "Pho, Burrito, Pad Thai",
         "866",
         "2025-06-08 00:00:00",
         "Jeffrey Woods",
         "70",
         "Other",
         "xmonroe@example.com",
         "361",
         "Williamport, Azerbaijan"
        ]
       ],
       "shape": {
        "columns": 12,
        "rows": 5
       }
      },
      "text/html": [
       "<div>\n",
       "<style scoped>\n",
       "    .dataframe tbody tr th:only-of-type {\n",
       "        vertical-align: middle;\n",
       "    }\n",
       "\n",
       "    .dataframe tbody tr th {\n",
       "        vertical-align: top;\n",
       "    }\n",
       "\n",
       "    .dataframe thead th {\n",
       "        text-align: right;\n",
       "    }\n",
       "</style>\n",
       "<table border=\"1\" class=\"dataframe\">\n",
       "  <thead>\n",
       "    <tr style=\"text-align: right;\">\n",
       "      <th></th>\n",
       "      <th>diet_id</th>\n",
       "      <th>user_id</th>\n",
       "      <th>meal_type</th>\n",
       "      <th>food_items</th>\n",
       "      <th>calories_intake</th>\n",
       "      <th>meal_date</th>\n",
       "      <th>name</th>\n",
       "      <th>age</th>\n",
       "      <th>gender</th>\n",
       "      <th>email</th>\n",
       "      <th>region_id</th>\n",
       "      <th>region_name</th>\n",
       "    </tr>\n",
       "  </thead>\n",
       "  <tbody>\n",
       "    <tr>\n",
       "      <th>0</th>\n",
       "      <td>1</td>\n",
       "      <td>1</td>\n",
       "      <td>Snack</td>\n",
       "      <td>Mutton Rogan Josh, Cereal</td>\n",
       "      <td>930</td>\n",
       "      <td>2025-05-29</td>\n",
       "      <td>Brandon Russell</td>\n",
       "      <td>66</td>\n",
       "      <td>F</td>\n",
       "      <td>robersonnancy@example.com</td>\n",
       "      <td>202</td>\n",
       "      <td>South Danny, Niue</td>\n",
       "    </tr>\n",
       "    <tr>\n",
       "      <th>1</th>\n",
       "      <td>2</td>\n",
       "      <td>2</td>\n",
       "      <td>Snack</td>\n",
       "      <td>Coffee, Spaghetti Bolognese</td>\n",
       "      <td>1111</td>\n",
       "      <td>2025-05-23</td>\n",
       "      <td>Evelyn Christian</td>\n",
       "      <td>52</td>\n",
       "      <td>M</td>\n",
       "      <td>derekhoffman@example.net</td>\n",
       "      <td>705</td>\n",
       "      <td>Jeffreyport, Antigua and Barbuda</td>\n",
       "    </tr>\n",
       "    <tr>\n",
       "      <th>2</th>\n",
       "      <td>3</td>\n",
       "      <td>3</td>\n",
       "      <td>Breakfast</td>\n",
       "      <td>Porridge, Fried Rice, Pad Thai, Green Tea</td>\n",
       "      <td>1183</td>\n",
       "      <td>2025-05-22</td>\n",
       "      <td>Aaron Graham</td>\n",
       "      <td>18</td>\n",
       "      <td>M</td>\n",
       "      <td>johnsnicholas@example.org</td>\n",
       "      <td>261</td>\n",
       "      <td>Baileyport, Montserrat</td>\n",
       "    </tr>\n",
       "    <tr>\n",
       "      <th>3</th>\n",
       "      <td>4</td>\n",
       "      <td>4</td>\n",
       "      <td>Dinner</td>\n",
       "      <td>Idli, Fried Rice, Spring Rolls, Upma, Muesli</td>\n",
       "      <td>427</td>\n",
       "      <td>2025-05-24</td>\n",
       "      <td>Jerome Whitehead</td>\n",
       "      <td>39</td>\n",
       "      <td>Other</td>\n",
       "      <td>estradadavid@example.org</td>\n",
       "      <td>516</td>\n",
       "      <td>Cardenasberg, Ukraine</td>\n",
       "    </tr>\n",
       "    <tr>\n",
       "      <th>4</th>\n",
       "      <td>5</td>\n",
       "      <td>5</td>\n",
       "      <td>Breakfast</td>\n",
       "      <td>Pho, Burrito, Pad Thai</td>\n",
       "      <td>866</td>\n",
       "      <td>2025-06-08</td>\n",
       "      <td>Jeffrey Woods</td>\n",
       "      <td>70</td>\n",
       "      <td>Other</td>\n",
       "      <td>xmonroe@example.com</td>\n",
       "      <td>361</td>\n",
       "      <td>Williamport, Azerbaijan</td>\n",
       "    </tr>\n",
       "  </tbody>\n",
       "</table>\n",
       "</div>"
      ],
      "text/plain": [
       "   diet_id  user_id  meal_type                                    food_items  \\\n",
       "0        1        1      Snack                     Mutton Rogan Josh, Cereal   \n",
       "1        2        2      Snack                   Coffee, Spaghetti Bolognese   \n",
       "2        3        3  Breakfast     Porridge, Fried Rice, Pad Thai, Green Tea   \n",
       "3        4        4     Dinner  Idli, Fried Rice, Spring Rolls, Upma, Muesli   \n",
       "4        5        5  Breakfast                        Pho, Burrito, Pad Thai   \n",
       "\n",
       "   calories_intake  meal_date              name  age gender  \\\n",
       "0              930 2025-05-29   Brandon Russell   66      F   \n",
       "1             1111 2025-05-23  Evelyn Christian   52      M   \n",
       "2             1183 2025-05-22      Aaron Graham   18      M   \n",
       "3              427 2025-05-24  Jerome Whitehead   39  Other   \n",
       "4              866 2025-06-08     Jeffrey Woods   70  Other   \n",
       "\n",
       "                       email  region_id                       region_name  \n",
       "0  robersonnancy@example.com        202                 South Danny, Niue  \n",
       "1   derekhoffman@example.net        705  Jeffreyport, Antigua and Barbuda  \n",
       "2  johnsnicholas@example.org        261            Baileyport, Montserrat  \n",
       "3   estradadavid@example.org        516             Cardenasberg, Ukraine  \n",
       "4        xmonroe@example.com        361           Williamport, Azerbaijan  "
      ]
     },
     "execution_count": 15,
     "metadata": {},
     "output_type": "execute_result"
    }
   ],
   "source": [
    "# Clean and Transform Diet Logs\n",
    "\n",
    "# Convert meal_date to datetime\n",
    "dietlogs['meal_date'] = pd.to_datetime(dietlogs['meal_date'], errors='coerce')\n",
    "\n",
    "# Fill missing values in calories_intake\n",
    "dietlogs['calories_intake'] = dietlogs['calories_intake'].fillna(dietlogs['calories_intake'].mean())\n",
    "\n",
    "# Merge with users and regions\n",
    "dietlogs = dietlogs.merge(users, on='user_id', how='left').merge(regions, on='region_id', how='left')\n",
    "\n",
    "# Show cleaned data\n",
    "dietlogs.head()\n"
   ]
  },
  {
   "cell_type": "code",
   "execution_count": 16,
   "id": "4aeda896",
   "metadata": {},
   "outputs": [
    {
     "data": {
      "application/vnd.microsoft.datawrangler.viewer.v0+json": {
       "columns": [
        {
         "name": "index",
         "rawType": "int64",
         "type": "integer"
        },
        {
         "name": "mood_id",
         "rawType": "int64",
         "type": "integer"
        },
        {
         "name": "user_id",
         "rawType": "int64",
         "type": "integer"
        },
        {
         "name": "mood_rating",
         "rawType": "int64",
         "type": "integer"
        },
        {
         "name": "mood_notes",
         "rawType": "object",
         "type": "string"
        },
        {
         "name": "mood_date",
         "rawType": "datetime64[ns]",
         "type": "datetime"
        },
        {
         "name": "name",
         "rawType": "object",
         "type": "string"
        },
        {
         "name": "age",
         "rawType": "int64",
         "type": "integer"
        },
        {
         "name": "gender",
         "rawType": "object",
         "type": "string"
        },
        {
         "name": "email",
         "rawType": "object",
         "type": "string"
        },
        {
         "name": "region_id",
         "rawType": "int64",
         "type": "integer"
        },
        {
         "name": "region_name",
         "rawType": "object",
         "type": "string"
        }
       ],
       "ref": "0cd7d330-994a-40f4-952e-06d94f1880a1",
       "rows": [
        [
         "0",
         "1",
         "1",
         "2",
         "Deep in thought.",
         "2025-06-06 00:00:00",
         "Brandon Russell",
         "66",
         "F",
         "robersonnancy@example.com",
         "202",
         "South Danny, Niue"
        ],
        [
         "1",
         "2",
         "2",
         "7",
         "Hurt by someone’s words.",
         "2025-06-06 00:00:00",
         "Evelyn Christian",
         "52",
         "M",
         "derekhoffman@example.net",
         "705",
         "Jeffreyport, Antigua and Barbuda"
        ],
        [
         "2",
         "3",
         "3",
         "2",
         "Laughing helped reduce stress.",
         "2025-06-10 00:00:00",
         "Aaron Graham",
         "18",
         "M",
         "johnsnicholas@example.org",
         "261",
         "Baileyport, Montserrat"
        ],
        [
         "3",
         "4",
         "4",
         "8",
         "Messed up something and feeling guilty.",
         "2025-06-07 00:00:00",
         "Jerome Whitehead",
         "39",
         "Other",
         "estradadavid@example.org",
         "516",
         "Cardenasberg, Ukraine"
        ],
        [
         "4",
         "5",
         "5",
         "2",
         "Sick and a bit cranky.",
         "2025-06-15 00:00:00",
         "Jeffrey Woods",
         "70",
         "Other",
         "xmonroe@example.com",
         "361",
         "Williamport, Azerbaijan"
        ]
       ],
       "shape": {
        "columns": 11,
        "rows": 5
       }
      },
      "text/html": [
       "<div>\n",
       "<style scoped>\n",
       "    .dataframe tbody tr th:only-of-type {\n",
       "        vertical-align: middle;\n",
       "    }\n",
       "\n",
       "    .dataframe tbody tr th {\n",
       "        vertical-align: top;\n",
       "    }\n",
       "\n",
       "    .dataframe thead th {\n",
       "        text-align: right;\n",
       "    }\n",
       "</style>\n",
       "<table border=\"1\" class=\"dataframe\">\n",
       "  <thead>\n",
       "    <tr style=\"text-align: right;\">\n",
       "      <th></th>\n",
       "      <th>mood_id</th>\n",
       "      <th>user_id</th>\n",
       "      <th>mood_rating</th>\n",
       "      <th>mood_notes</th>\n",
       "      <th>mood_date</th>\n",
       "      <th>name</th>\n",
       "      <th>age</th>\n",
       "      <th>gender</th>\n",
       "      <th>email</th>\n",
       "      <th>region_id</th>\n",
       "      <th>region_name</th>\n",
       "    </tr>\n",
       "  </thead>\n",
       "  <tbody>\n",
       "    <tr>\n",
       "      <th>0</th>\n",
       "      <td>1</td>\n",
       "      <td>1</td>\n",
       "      <td>2</td>\n",
       "      <td>Deep in thought.</td>\n",
       "      <td>2025-06-06</td>\n",
       "      <td>Brandon Russell</td>\n",
       "      <td>66</td>\n",
       "      <td>F</td>\n",
       "      <td>robersonnancy@example.com</td>\n",
       "      <td>202</td>\n",
       "      <td>South Danny, Niue</td>\n",
       "    </tr>\n",
       "    <tr>\n",
       "      <th>1</th>\n",
       "      <td>2</td>\n",
       "      <td>2</td>\n",
       "      <td>7</td>\n",
       "      <td>Hurt by someone’s words.</td>\n",
       "      <td>2025-06-06</td>\n",
       "      <td>Evelyn Christian</td>\n",
       "      <td>52</td>\n",
       "      <td>M</td>\n",
       "      <td>derekhoffman@example.net</td>\n",
       "      <td>705</td>\n",
       "      <td>Jeffreyport, Antigua and Barbuda</td>\n",
       "    </tr>\n",
       "    <tr>\n",
       "      <th>2</th>\n",
       "      <td>3</td>\n",
       "      <td>3</td>\n",
       "      <td>2</td>\n",
       "      <td>Laughing helped reduce stress.</td>\n",
       "      <td>2025-06-10</td>\n",
       "      <td>Aaron Graham</td>\n",
       "      <td>18</td>\n",
       "      <td>M</td>\n",
       "      <td>johnsnicholas@example.org</td>\n",
       "      <td>261</td>\n",
       "      <td>Baileyport, Montserrat</td>\n",
       "    </tr>\n",
       "    <tr>\n",
       "      <th>3</th>\n",
       "      <td>4</td>\n",
       "      <td>4</td>\n",
       "      <td>8</td>\n",
       "      <td>Messed up something and feeling guilty.</td>\n",
       "      <td>2025-06-07</td>\n",
       "      <td>Jerome Whitehead</td>\n",
       "      <td>39</td>\n",
       "      <td>Other</td>\n",
       "      <td>estradadavid@example.org</td>\n",
       "      <td>516</td>\n",
       "      <td>Cardenasberg, Ukraine</td>\n",
       "    </tr>\n",
       "    <tr>\n",
       "      <th>4</th>\n",
       "      <td>5</td>\n",
       "      <td>5</td>\n",
       "      <td>2</td>\n",
       "      <td>Sick and a bit cranky.</td>\n",
       "      <td>2025-06-15</td>\n",
       "      <td>Jeffrey Woods</td>\n",
       "      <td>70</td>\n",
       "      <td>Other</td>\n",
       "      <td>xmonroe@example.com</td>\n",
       "      <td>361</td>\n",
       "      <td>Williamport, Azerbaijan</td>\n",
       "    </tr>\n",
       "  </tbody>\n",
       "</table>\n",
       "</div>"
      ],
      "text/plain": [
       "   mood_id  user_id  mood_rating                               mood_notes  \\\n",
       "0        1        1            2                         Deep in thought.   \n",
       "1        2        2            7                 Hurt by someone’s words.   \n",
       "2        3        3            2           Laughing helped reduce stress.   \n",
       "3        4        4            8  Messed up something and feeling guilty.   \n",
       "4        5        5            2                   Sick and a bit cranky.   \n",
       "\n",
       "   mood_date              name  age gender                      email  \\\n",
       "0 2025-06-06   Brandon Russell   66      F  robersonnancy@example.com   \n",
       "1 2025-06-06  Evelyn Christian   52      M   derekhoffman@example.net   \n",
       "2 2025-06-10      Aaron Graham   18      M  johnsnicholas@example.org   \n",
       "3 2025-06-07  Jerome Whitehead   39  Other   estradadavid@example.org   \n",
       "4 2025-06-15     Jeffrey Woods   70  Other        xmonroe@example.com   \n",
       "\n",
       "   region_id                       region_name  \n",
       "0        202                 South Danny, Niue  \n",
       "1        705  Jeffreyport, Antigua and Barbuda  \n",
       "2        261            Baileyport, Montserrat  \n",
       "3        516             Cardenasberg, Ukraine  \n",
       "4        361           Williamport, Azerbaijan  "
      ]
     },
     "execution_count": 16,
     "metadata": {},
     "output_type": "execute_result"
    }
   ],
   "source": [
    "# Clean and Transform Mood Logs\n",
    "\n",
    "# Convert mood_date to datetime\n",
    "moodlogs['mood_date'] = pd.to_datetime(moodlogs['mood_date'], errors='coerce')\n",
    "\n",
    "# Fill missing mood ratings with median\n",
    "moodlogs['mood_rating'] = moodlogs['mood_rating'].fillna(moodlogs['mood_rating'].median())\n",
    "\n",
    "# Merge with users and regions\n",
    "moodlogs = moodlogs.merge(users, on='user_id', how='left').merge(regions, on='region_id', how='left')\n",
    "\n",
    "# Display cleaned mood logs\n",
    "moodlogs.head()\n"
   ]
  },
  {
   "cell_type": "code",
   "execution_count": 17,
   "id": "9a3becc2",
   "metadata": {},
   "outputs": [],
   "source": [
    "# Save Cleaned Data to CSV\n",
    "wearable.to_csv('cleaned_wearable_data.csv', index=False)\n",
    "activitylogs.to_csv('cleaned_activitylogs.csv', index=False)\n",
    "dietlogs.to_csv('cleaned_dietlogs.csv', index=False)\n",
    "moodlogs.to_csv('cleaned_moodlogs.csv', index=False)\n"
   ]
  }
 ],
 "metadata": {
  "kernelspec": {
   "display_name": "Python 3",
   "language": "python",
   "name": "python3"
  },
  "language_info": {
   "codemirror_mode": {
    "name": "ipython",
    "version": 3
   },
   "file_extension": ".py",
   "mimetype": "text/x-python",
   "name": "python",
   "nbconvert_exporter": "python",
   "pygments_lexer": "ipython3",
   "version": "3.11.9"
  }
 },
 "nbformat": 4,
 "nbformat_minor": 5
}
